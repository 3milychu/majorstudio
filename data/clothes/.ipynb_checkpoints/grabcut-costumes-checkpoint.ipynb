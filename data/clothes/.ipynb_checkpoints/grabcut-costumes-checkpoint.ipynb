version https://git-lfs.github.com/spec/v1
oid sha256:4b06613dc3f5b930d11a857978fc5cf63a8921cdfda840790e0cea442f8d768d
size 323881
