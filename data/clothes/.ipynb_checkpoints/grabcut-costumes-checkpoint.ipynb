version https://git-lfs.github.com/spec/v1
oid sha256:9ee9ad91fb9e1fda8fcdac4013c9d19bc28c3097964c8e15f4ba5a6ba4fdce8e
size 148249
