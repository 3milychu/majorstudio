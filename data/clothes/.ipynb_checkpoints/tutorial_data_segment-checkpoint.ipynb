version https://git-lfs.github.com/spec/v1
oid sha256:36430eab465d5b815d308a7196faf9f71f15a87c7a66bf935bb18eee2834fafa
size 11789
