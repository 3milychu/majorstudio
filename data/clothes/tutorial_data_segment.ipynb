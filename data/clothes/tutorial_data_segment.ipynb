version https://git-lfs.github.com/spec/v1
oid sha256:19ae02a4f726e8661f363c7a69e4e06ad56ea1fc2cf55db68c5e83eba64d6f6c
size 12069
