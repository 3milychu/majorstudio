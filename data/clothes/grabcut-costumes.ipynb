version https://git-lfs.github.com/spec/v1
oid sha256:b788a3d14f7ce7790fb5f0187f23482108c36431f15191b815d56b61d66edf73
size 280605
