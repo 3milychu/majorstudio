version https://git-lfs.github.com/spec/v1
oid sha256:c574a4f504394426f60dede6fe2841ee591e0811a9d822fc75ddf1c8856e54b5
size 139986
