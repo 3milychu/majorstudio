version https://git-lfs.github.com/spec/v1
oid sha256:59cd8f8ba2159976835df1ff7c1a44f1bf4092573bcea39319f2f1fb7a510ad2
size 320265
