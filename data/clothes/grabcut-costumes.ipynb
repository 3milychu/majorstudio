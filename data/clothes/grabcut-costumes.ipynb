version https://git-lfs.github.com/spec/v1
oid sha256:39118722150823562afc39e88f8f733560521b4d29c2eca2a6a4b6fec8ca7a98
size 182826
