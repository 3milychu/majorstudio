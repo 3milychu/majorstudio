version https://git-lfs.github.com/spec/v1
oid sha256:5117aac3a4f2b3b1ef9f7d73ba4612c31b1d6b921db09364a960750c43fb5626
size 140179
