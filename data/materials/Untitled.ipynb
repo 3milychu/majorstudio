version https://git-lfs.github.com/spec/v1
oid sha256:7a65cb00fb2fb83412f62ac3d4061b183f05e6dd97e30572f87c7dbd11c6cef0
size 10441
