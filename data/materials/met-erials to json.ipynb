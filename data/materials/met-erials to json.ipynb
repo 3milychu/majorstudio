version https://git-lfs.github.com/spec/v1
oid sha256:2241aa8bf54c2d58c9a6383176262ebbdbe877ef1080b6bc42975cc9ca88f80a
size 10523
