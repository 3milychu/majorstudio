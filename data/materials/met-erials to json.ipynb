version https://git-lfs.github.com/spec/v1
oid sha256:4dd98ed8f8af976a18168fccb327449e69d45a5fbe51ec2ecd382f7bc1745dea
size 10893
