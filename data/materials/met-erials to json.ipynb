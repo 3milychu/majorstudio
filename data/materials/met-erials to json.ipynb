version https://git-lfs.github.com/spec/v1
oid sha256:f596e1ee4696fcc30c02ace55f9c14c053c72001ad3d21fc19783ff450c09d0e
size 10880
