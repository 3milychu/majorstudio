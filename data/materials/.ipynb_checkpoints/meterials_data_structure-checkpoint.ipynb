version https://git-lfs.github.com/spec/v1
oid sha256:12862f1705deccccc32ad85c0c59413f2e1b02cc55435040da83726ceab3cd7d
size 34536
