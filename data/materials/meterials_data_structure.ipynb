version https://git-lfs.github.com/spec/v1
oid sha256:2d9f23eb74d88c239a756ac725b74b7f8d6d4a7872bc94ac6e42f49bbef68fb4
size 34297
