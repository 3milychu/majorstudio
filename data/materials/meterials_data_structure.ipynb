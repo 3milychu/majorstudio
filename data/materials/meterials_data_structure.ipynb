version https://git-lfs.github.com/spec/v1
oid sha256:3ee39e9914e2ffe220ab7efbc00377b172704b6e47c1a86984ad9907a9db6eaf
size 35589
