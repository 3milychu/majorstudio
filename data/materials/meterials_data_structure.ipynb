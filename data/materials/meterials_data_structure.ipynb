version https://git-lfs.github.com/spec/v1
oid sha256:9cc3146e368c0ec1143dd982efcf5942e36497da139813aff0bf9c64b9a09117
size 34256
