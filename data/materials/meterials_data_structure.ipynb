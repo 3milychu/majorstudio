version https://git-lfs.github.com/spec/v1
oid sha256:1b1b8117fd7b9c8bbd5d111c4ca00417d9fecc1b342bd646016c1a78685fa5ff
size 36894
