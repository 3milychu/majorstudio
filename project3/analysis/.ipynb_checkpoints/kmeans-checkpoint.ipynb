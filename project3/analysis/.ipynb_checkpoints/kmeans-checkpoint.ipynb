version https://git-lfs.github.com/spec/v1
oid sha256:6fe7de0eb48a8e53c08ee82876354faec095a5f2b201b2d8de191232d2b06532
size 826730
