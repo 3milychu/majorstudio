version https://git-lfs.github.com/spec/v1
oid sha256:155e76caac8e88524fc27a2bc8a67cf234e8e4f6df22518363adcffa44315f0d
size 304461
