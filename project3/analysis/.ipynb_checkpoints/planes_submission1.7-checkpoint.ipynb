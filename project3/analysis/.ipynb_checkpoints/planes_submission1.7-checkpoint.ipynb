version https://git-lfs.github.com/spec/v1
oid sha256:6dd3e145c5bcb12b9561f413045e3b510b538e65e29c4e9ce65683412e02c087
size 5032956
