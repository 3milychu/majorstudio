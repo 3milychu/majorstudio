version https://git-lfs.github.com/spec/v1
oid sha256:f2c70b791604f81293b71ae89396aa1c53e1d8ea8489ef4a6b9585b1a57bbcb8
size 5033269
