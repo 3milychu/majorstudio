version https://git-lfs.github.com/spec/v1
oid sha256:58eead7efa0fe1faa42ce60c7d7db6e893c4b131337f2738bb48038b3faf44ff
size 14664
