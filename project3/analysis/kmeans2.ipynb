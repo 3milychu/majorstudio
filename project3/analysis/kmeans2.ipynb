version https://git-lfs.github.com/spec/v1
oid sha256:8da1dbfce92ad9c95eed3ebb7befce3e13e0a03f885334e0be4527a069737eeb
size 797796
